{
 "cells": [
  {
   "cell_type": "code",
   "execution_count": 160,
   "metadata": {},
   "outputs": [
    {
     "name": "stdout",
     "output_type": "stream",
     "text": [
      "Warning: When  cdn_resources is 'local' jupyter notebook has issues displaying graphics on chrome/safari. Use cdn_resources='in_line' or cdn_resources='remote' if you have issues viewing graphics in a notebook.\n",
      "./img/3/graph.html\n",
      "Warning: When  cdn_resources is 'local' jupyter notebook has issues displaying graphics on chrome/safari. Use cdn_resources='in_line' or cdn_resources='remote' if you have issues viewing graphics in a notebook.\n",
      "./img/3/graph.html\n"
     ]
    }
   ],
   "source": [
    "import math\n",
    "import numpy as np\n",
    "import matplotlib.pyplot as plt\n",
    "import matplotlib as mpl\n",
    "mpl.rcParams.update(mpl.rcParamsDefault)\n",
    "%run ./2-ImplementationFactor.ipynb\n",
    "%run ./3-ImplementationPGM.ipynb\n",
    "%run ./4-ImplementationBP.ipynb"
   ]
  },
  {
   "cell_type": "code",
   "execution_count": 161,
   "metadata": {},
   "outputs": [],
   "source": [
    "def delta_funct(S_ki, t_i):\n",
    "    if (len(S_ki) == 0):\n",
    "        return 0\n",
    "    if (t_i == np.min(S_ki)):\n",
    "        return 1\n",
    "    return 0"
   ]
  },
  {
   "cell_type": "code",
   "execution_count": 162,
   "metadata": {},
   "outputs": [],
   "source": [
    "def R_i(t_i, r_i, lambda_i):\n",
    "    if (t_i > r_i):\n",
    "        return 0\n",
    "    result = lambda_i*np.exp(-lambda_i*(r_i - t_i))\n",
    "    return result"
   ]
  },
  {
   "cell_type": "code",
   "execution_count": 163,
   "metadata": {},
   "outputs": [],
   "source": [
    "def S_ij(s_ij, t_i, r_i, lambda_i, time_range, contact_range_ij):\n",
    "    if (t_i <= s_ij < r_i):\n",
    "            temp = np.where((contact_range_ij < s_ij) & (contact_range_ij >= t_i))\n",
    "            return (lambda_i)*(1-lambda_i)**(len(temp))\n",
    "    elif (s_ij ==9):\n",
    "        index_larger_than_t_i = np.where(contact_range_ij >= t_i)\n",
    "        return (1-lambda_i)**(len(index_larger_than_t_i))\n",
    "    else:\n",
    "        return 0"
   ]
  },
  {
   "cell_type": "code",
   "execution_count": 164,
   "metadata": {},
   "outputs": [],
   "source": [
    "#debug function\n",
    "def Find_Zero(delt, R, S):\n",
    "    if (delt == 0):\n",
    "        print(\"delt = 0\")\n",
    "    if (R == 0):\n",
    "        print(\"R = 0\")\n",
    "    if (S == 0):\n",
    "        print(\"S = 0\")\n",
    "\n",
    "def phi(t_i,r_i, s, type):\n",
    "    delt = delta_funct([s[1-type]],t_i)\n",
    "    R = R_i(t_i, r_i, 0.3)\n",
    "    S = S_ij(s[type], t_i, r_i, 0.3, \"nothing\", np.array([0,6,9]))\n",
    "    #Find_Zero(delt, R, S)\n",
    "    return delt*R*S\n"
   ]
  },
  {
   "cell_type": "code",
   "execution_count": 165,
   "metadata": {},
   "outputs": [],
   "source": [
    "#phi(t_i,r_i,(s_ij,s_ji), type)"
   ]
  },
  {
   "cell_type": "code",
   "execution_count": 166,
   "metadata": {},
   "outputs": [
    {
     "data": {
      "text/plain": [
       "0.010413829957959952"
      ]
     },
     "execution_count": 166,
     "metadata": {},
     "output_type": "execute_result"
    }
   ],
   "source": [
    "phi(1, 7, (6,1), 0)"
   ]
  },
  {
   "cell_type": "code",
   "execution_count": 167,
   "metadata": {},
   "outputs": [],
   "source": [
    "#inference using BP"
   ]
  },
  {
   "cell_type": "code",
   "execution_count": 168,
   "metadata": {},
   "outputs": [],
   "source": [
    "variables_i = [\"t_i\",\"r_i\",\"s_ij:s_ji\"]\n",
    "variables_j = [\"t_j\", \"r_j\",\"s_ij:s_ji\"]"
   ]
  },
  {
   "cell_type": "code",
   "execution_count": 169,
   "metadata": {},
   "outputs": [],
   "source": [
    "shape = (10,10,10,10)\n",
    "matrix_phi_i = np.zeros(shape=(10,10,10))\n",
    "matrix_phi_j = np.zeros(shape=(10,10,10))\n",
    "for index in np.ndindex(shape):\n",
    "    matrix_phi_i[index[0], index[1], index[2]] = phi(index[0], index[1], (index[2], index[3]),0)\n",
    "    matrix_phi_j[index[0], index[1], index[3]] = phi(index[0], index[1], (index[2], index[3]),1)"
   ]
  },
  {
   "cell_type": "code",
   "execution_count": 170,
   "metadata": {},
   "outputs": [],
   "source": [
    "phi_i = factor(variables_i, matrix_phi_i)\n",
    "phi_j = factor(variables_j, matrix_phi_j)"
   ]
  },
  {
   "cell_type": "code",
   "execution_count": 171,
   "metadata": {},
   "outputs": [],
   "source": [
    "graph = factor_graph()\n",
    "graph.add_factor_node(\"phi_i\", phi_i)\n",
    "graph.add_factor_node(\"phi_j\", phi_j)"
   ]
  },
  {
   "cell_type": "code",
   "execution_count": 172,
   "metadata": {},
   "outputs": [],
   "source": [
    "bp = belief_propagation(graph)\n",
    "bp_result = bp.belief(\"t_i\").get_distribution()"
   ]
  },
  {
   "cell_type": "code",
   "execution_count": 173,
   "metadata": {},
   "outputs": [
    {
     "data": {
      "text/plain": [
       "array([0., 0., 0., 0., 0., 0., 0., 0., 0., 1.])"
      ]
     },
     "execution_count": 173,
     "metadata": {},
     "output_type": "execute_result"
    }
   ],
   "source": [
    "bp_result"
   ]
  },
  {
   "cell_type": "code",
   "execution_count": 174,
   "metadata": {},
   "outputs": [
    {
     "name": "stdout",
     "output_type": "stream",
     "text": [
      "Warning: When  cdn_resources is 'local' jupyter notebook has issues displaying graphics on chrome/safari. Use cdn_resources='in_line' or cdn_resources='remote' if you have issues viewing graphics in a notebook.\n",
      "./img/3/graph.html\n"
     ]
    },
    {
     "data": {
      "text/html": [
       "\n",
       "        <iframe\n",
       "            width=\"100%\"\n",
       "            height=\"600px\"\n",
       "            src=\"./img/3/graph.html\"\n",
       "            frameborder=\"0\"\n",
       "            allowfullscreen\n",
       "            \n",
       "        ></iframe>\n",
       "        "
      ],
      "text/plain": [
       "<IPython.lib.display.IFrame at 0x267e2667340>"
      ]
     },
     "execution_count": 174,
     "metadata": {},
     "output_type": "execute_result"
    }
   ],
   "source": [
    "plot_factor_graph(graph)"
   ]
  },
  {
   "cell_type": "code",
   "execution_count": 175,
   "metadata": {},
   "outputs": [],
   "source": [
    "#exact calculation of marginals"
   ]
  },
  {
   "cell_type": "code",
   "execution_count": 176,
   "metadata": {},
   "outputs": [],
   "source": [
    "t_i_array = []\n",
    "sum = 0\n",
    "shaper = (10,10,10,10,10)\n",
    "for t_i in range(10):\n",
    "    sum = 0\n",
    "    for index in np.ndindex(shaper):\n",
    "        r_i = index[0]\n",
    "        t_j = index[1]\n",
    "        r_j = index[2]\n",
    "        s_ij = index[3]\n",
    "        s_ji = index[4]\n",
    "        s = (s_ij, s_ji)\n",
    "        sum += phi(t_i, r_i, s, 0)*phi(t_j, r_j, s, 1)\n",
    "    t_i_array.append(sum)"
   ]
  },
  {
   "cell_type": "code",
   "execution_count": 177,
   "metadata": {},
   "outputs": [],
   "source": [
    "sum_Z = np.sum(t_i_array)"
   ]
  },
  {
   "cell_type": "code",
   "execution_count": 178,
   "metadata": {},
   "outputs": [
    {
     "data": {
      "text/plain": [
       "[0.02821417899592995,\n",
       " 0.026809746543156463,\n",
       " 0.024970822880290698,\n",
       " 0.02259214462917218,\n",
       " 0.019570052842432073,\n",
       " 0.01583464979256541,\n",
       " 0.01141918132252637,\n",
       " 0.006601023169757597,\n",
       " 0.0021782333836571906,\n",
       " 0.04409999999999999]"
      ]
     },
     "execution_count": 178,
     "metadata": {},
     "output_type": "execute_result"
    }
   ],
   "source": [
    "t_i_array"
   ]
  },
  {
   "cell_type": "code",
   "execution_count": 179,
   "metadata": {},
   "outputs": [
    {
     "data": {
      "text/plain": [
       "array([0.1394739 , 0.13253123, 0.1234407 , 0.11168195, 0.09674255,\n",
       "       0.07827696, 0.05644955, 0.03263148, 0.01076787, 0.21800382])"
      ]
     },
     "execution_count": 179,
     "metadata": {},
     "output_type": "execute_result"
    }
   ],
   "source": [
    "marginal_t_i = t_i_array/sum_Z\n",
    "marginal_t_i"
   ]
  },
  {
   "cell_type": "code",
   "execution_count": 180,
   "metadata": {},
   "outputs": [
    {
     "data": {
      "text/plain": [
       "array([0., 0., 0., 0., 0., 0., 0., 0., 0., 1.])"
      ]
     },
     "execution_count": 180,
     "metadata": {},
     "output_type": "execute_result"
    }
   ],
   "source": [
    "bp_result"
   ]
  },
  {
   "cell_type": "code",
   "execution_count": null,
   "metadata": {},
   "outputs": [],
   "source": []
  }
 ],
 "metadata": {
  "kernelspec": {
   "display_name": "datalysis",
   "language": "python",
   "name": "python3"
  },
  "language_info": {
   "codemirror_mode": {
    "name": "ipython",
    "version": 3
   },
   "file_extension": ".py",
   "mimetype": "text/x-python",
   "name": "python",
   "nbconvert_exporter": "python",
   "pygments_lexer": "ipython3",
   "version": "3.10.9"
  },
  "orig_nbformat": 4
 },
 "nbformat": 4,
 "nbformat_minor": 2
}
