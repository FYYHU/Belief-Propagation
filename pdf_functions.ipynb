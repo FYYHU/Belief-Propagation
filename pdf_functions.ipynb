{
 "cells": [
  {
   "cell_type": "code",
   "execution_count": 34,
   "metadata": {},
   "outputs": [
    {
     "name": "stdout",
     "output_type": "stream",
     "text": [
      "Warning: When  cdn_resources is 'local' jupyter notebook has issues displaying graphics on chrome/safari. Use cdn_resources='in_line' or cdn_resources='remote' if you have issues viewing graphics in a notebook.\n",
      "./img/3/graph.html\n",
      "Warning: When  cdn_resources is 'local' jupyter notebook has issues displaying graphics on chrome/safari. Use cdn_resources='in_line' or cdn_resources='remote' if you have issues viewing graphics in a notebook.\n",
      "./img/3/graph.html\n"
     ]
    }
   ],
   "source": [
    "import math\n",
    "import numpy as np\n",
    "import matplotlib.pyplot as plt\n",
    "import matplotlib as mpl\n",
    "mpl.rcParams.update(mpl.rcParamsDefault)\n",
    "%run ./2-ImplementationFactor.ipynb\n",
    "%run ./3-ImplementationPGM.ipynb\n",
    "%run ./4-ImplementationBP.ipynb"
   ]
  },
  {
   "cell_type": "code",
   "execution_count": 35,
   "metadata": {},
   "outputs": [],
   "source": [
    "def delta_funct(S_ki, t_i):\n",
    "    if (t_i == np.min(S_ki)):\n",
    "        return 1\n",
    "    return 0"
   ]
  },
  {
   "cell_type": "code",
   "execution_count": 36,
   "metadata": {},
   "outputs": [],
   "source": [
    "def R_i(t_i, r_i, lambda_i):\n",
    "    if (t_i > r_i):\n",
    "        return 0\n",
    "    result = lambda_i*np.exp(-lambda_i*(r_i - t_i))\n",
    "    return result"
   ]
  },
  {
   "cell_type": "code",
   "execution_count": 37,
   "metadata": {},
   "outputs": [],
   "source": [
    "def S_ij(s_ij, t_i, r_i, lambda_i, time_range, contact_range_ij):\n",
    "    if (t_i <= s_ij < r_i):\n",
    "            temp = np.where((contact_range_ij < s_ij) & (contact_range_ij >= t_i))\n",
    "            return (lambda_i)*(1-lambda_i)**(len(temp))\n",
    "    elif (s_ij ==9):\n",
    "        index_larger_than_t_i = np.where(contact_range_ij >= t_i)\n",
    "        return (1-lambda_i)**(len(index_larger_than_t_i))\n",
    "    else:\n",
    "        return 0"
   ]
  },
  {
   "cell_type": "code",
   "execution_count": 38,
   "metadata": {},
   "outputs": [],
   "source": [
    "#debug function\n",
    "def Find_Zero(delt, R, S):\n",
    "    if (delt == 0):\n",
    "        print(\"delt = 0\")\n",
    "    if (R == 0):\n",
    "        print(\"R = 0\")\n",
    "    if (S == 0):\n",
    "        print(\"S = 0\")\n",
    "\n",
    "def phi(t_i,r_i, s):\n",
    "    delt = delta_funct([s[1]],t_i)\n",
    "    R = R_i(t_i, r_i, 0.3)\n",
    "    S = S_ij(s[0], t_i, r_i, 0.3, \"nothing\", np.array([0,6,9]))\n",
    "    #Find_Zero(delt, R, S)\n",
    "    return delt*R*S\n"
   ]
  },
  {
   "cell_type": "code",
   "execution_count": 39,
   "metadata": {},
   "outputs": [],
   "source": [
    "#phi(t_i,r_i,(s_ij,s_ji))"
   ]
  },
  {
   "cell_type": "code",
   "execution_count": 40,
   "metadata": {},
   "outputs": [
    {
     "data": {
      "text/plain": [
       "0.018975235350468734"
      ]
     },
     "execution_count": 40,
     "metadata": {},
     "output_type": "execute_result"
    }
   ],
   "source": [
    "phi(0, 4, (3,0))"
   ]
  },
  {
   "cell_type": "code",
   "execution_count": 41,
   "metadata": {},
   "outputs": [],
   "source": [
    "#inference using BP"
   ]
  },
  {
   "cell_type": "code",
   "execution_count": 42,
   "metadata": {},
   "outputs": [],
   "source": [
    "variables_i = [\"t_i\",\"r_i\",\"s_ij:s_ji\"]\n",
    "variables_j = [\"t_j\", \"r_j\",\"s_ij:s_ji\"]"
   ]
  },
  {
   "cell_type": "code",
   "execution_count": 43,
   "metadata": {},
   "outputs": [],
   "source": [
    "def map_digit_to_2d_array(n):\n",
    "    x = n % 10\n",
    "    y = n // 10\n",
    "    return [x, y]"
   ]
  },
  {
   "cell_type": "code",
   "execution_count": 44,
   "metadata": {},
   "outputs": [
    {
     "name": "stdout",
     "output_type": "stream",
     "text": [
      "[0, 0]\n",
      "[1, 0]\n",
      "[2, 0]\n",
      "[3, 0]\n",
      "[4, 0]\n",
      "[5, 0]\n",
      "[6, 0]\n",
      "[7, 0]\n",
      "[8, 0]\n",
      "[9, 0]\n",
      "[0, 1]\n",
      "[1, 1]\n",
      "[2, 1]\n",
      "[3, 1]\n",
      "[4, 1]\n",
      "[5, 1]\n",
      "[6, 1]\n",
      "[7, 1]\n",
      "[8, 1]\n",
      "[9, 1]\n",
      "[0, 2]\n",
      "[1, 2]\n",
      "[2, 2]\n",
      "[3, 2]\n",
      "[4, 2]\n",
      "[5, 2]\n",
      "[6, 2]\n",
      "[7, 2]\n",
      "[8, 2]\n",
      "[9, 2]\n",
      "[0, 3]\n",
      "[1, 3]\n",
      "[2, 3]\n",
      "[3, 3]\n",
      "[4, 3]\n",
      "[5, 3]\n",
      "[6, 3]\n",
      "[7, 3]\n",
      "[8, 3]\n",
      "[9, 3]\n",
      "[0, 4]\n",
      "[1, 4]\n",
      "[2, 4]\n",
      "[3, 4]\n",
      "[4, 4]\n",
      "[5, 4]\n",
      "[6, 4]\n",
      "[7, 4]\n",
      "[8, 4]\n",
      "[9, 4]\n",
      "[0, 5]\n",
      "[1, 5]\n",
      "[2, 5]\n",
      "[3, 5]\n",
      "[4, 5]\n",
      "[5, 5]\n",
      "[6, 5]\n",
      "[7, 5]\n",
      "[8, 5]\n",
      "[9, 5]\n",
      "[0, 6]\n",
      "[1, 6]\n",
      "[2, 6]\n",
      "[3, 6]\n",
      "[4, 6]\n",
      "[5, 6]\n",
      "[6, 6]\n",
      "[7, 6]\n",
      "[8, 6]\n",
      "[9, 6]\n",
      "[0, 7]\n",
      "[1, 7]\n",
      "[2, 7]\n",
      "[3, 7]\n",
      "[4, 7]\n",
      "[5, 7]\n",
      "[6, 7]\n",
      "[7, 7]\n",
      "[8, 7]\n",
      "[9, 7]\n",
      "[0, 8]\n",
      "[1, 8]\n",
      "[2, 8]\n",
      "[3, 8]\n",
      "[4, 8]\n",
      "[5, 8]\n",
      "[6, 8]\n",
      "[7, 8]\n",
      "[8, 8]\n",
      "[9, 8]\n",
      "[0, 9]\n",
      "[1, 9]\n",
      "[2, 9]\n",
      "[3, 9]\n",
      "[4, 9]\n",
      "[5, 9]\n",
      "[6, 9]\n",
      "[7, 9]\n",
      "[8, 9]\n",
      "[9, 9]\n"
     ]
    }
   ],
   "source": [
    "for x in range(100):\n",
    "    print( map_digit_to_2d_array(x))"
   ]
  },
  {
   "cell_type": "code",
   "execution_count": 45,
   "metadata": {},
   "outputs": [],
   "source": [
    "shape = (10,10,100)\n",
    "matrix_phi_i = np.zeros(shape=(10,10,100))\n",
    "matrix_phi_j = np.zeros(shape=(10,10,100))\n",
    "for index in np.ndindex(shape):\n",
    "    matrix_phi_i[index[0], index[1], index[2]] = phi(index[0], index[1], map_digit_to_2d_array(index[2]))\n",
    "for index in np.ndindex(shape):\n",
    "    matrix_phi_j[index[0], index[1], index[2]] = phi(index[0], index[1], map_digit_to_2d_array(index[2]))"
   ]
  },
  {
   "cell_type": "code",
   "execution_count": 46,
   "metadata": {},
   "outputs": [],
   "source": [
    "phi_i = factor(variables_i, matrix_phi_i)\n",
    "phi_j = factor(variables_j, matrix_phi_j)"
   ]
  },
  {
   "cell_type": "code",
   "execution_count": 47,
   "metadata": {},
   "outputs": [],
   "source": [
    "graph = factor_graph()\n",
    "graph.add_factor_node(\"phi_i\", phi_i)\n",
    "graph.add_factor_node(\"phi_j\", phi_j)"
   ]
  },
  {
   "cell_type": "code",
   "execution_count": 48,
   "metadata": {},
   "outputs": [],
   "source": [
    "bp = belief_propagation(graph)\n",
    "bp_result = bp.belief(\"t_i\").get_distribution()"
   ]
  },
  {
   "cell_type": "code",
   "execution_count": 49,
   "metadata": {},
   "outputs": [
    {
     "data": {
      "text/plain": [
       "array([0.15943275, 0.15307027, 0.14475433, 0.13400012, 0.1202956 ,\n",
       "       0.10319189, 0.08249319, 0.05862558, 0.03331813, 0.01081813])"
      ]
     },
     "execution_count": 49,
     "metadata": {},
     "output_type": "execute_result"
    }
   ],
   "source": [
    "bp_result"
   ]
  },
  {
   "cell_type": "code",
   "execution_count": 50,
   "metadata": {},
   "outputs": [
    {
     "name": "stdout",
     "output_type": "stream",
     "text": [
      "Warning: When  cdn_resources is 'local' jupyter notebook has issues displaying graphics on chrome/safari. Use cdn_resources='in_line' or cdn_resources='remote' if you have issues viewing graphics in a notebook.\n",
      "./img/3/graph.html\n"
     ]
    },
    {
     "data": {
      "text/html": [
       "\n",
       "        <iframe\n",
       "            width=\"100%\"\n",
       "            height=\"600px\"\n",
       "            src=\"./img/3/graph.html\"\n",
       "            frameborder=\"0\"\n",
       "            allowfullscreen\n",
       "            \n",
       "        ></iframe>\n",
       "        "
      ],
      "text/plain": [
       "<IPython.lib.display.IFrame at 0x1f0f127e790>"
      ]
     },
     "execution_count": 50,
     "metadata": {},
     "output_type": "execute_result"
    }
   ],
   "source": [
    "plot_factor_graph(graph)"
   ]
  },
  {
   "cell_type": "code",
   "execution_count": 51,
   "metadata": {},
   "outputs": [],
   "source": [
    "#exact calculation of marginals"
   ]
  },
  {
   "cell_type": "code",
   "execution_count": 52,
   "metadata": {},
   "outputs": [],
   "source": [
    "t_i_array = [0]*10\n",
    "for t_i in range(10):\n",
    "    sum = 0\n",
    "    for r_i in range(10):\n",
    "        for t_j in range(10):\n",
    "            for r_j in range(10):\n",
    "                for s_ij in range(100):\n",
    "                    sum += phi(t_i, r_i, map_digit_to_2d_array(s_ij))*phi(t_j, r_j, map_digit_to_2d_array(s_ij))\n",
    "    t_i_array[t_i] = sum"
   ]
  },
  {
   "cell_type": "code",
   "execution_count": 53,
   "metadata": {},
   "outputs": [],
   "source": [
    "sum_Z = np.sum(t_i_array)"
   ]
  },
  {
   "cell_type": "code",
   "execution_count": 54,
   "metadata": {},
   "outputs": [
    {
     "data": {
      "text/plain": [
       "[0.6499257998216534,\n",
       " 0.6239892209168375,\n",
       " 0.5900893926245488,\n",
       " 0.5462499774828933,\n",
       " 0.49038366944169237,\n",
       " 0.420660559003195,\n",
       " 0.33628256076482377,\n",
       " 0.23898651825065323,\n",
       " 0.13582099359953126,\n",
       " 0.04409999999999999]"
      ]
     },
     "execution_count": 54,
     "metadata": {},
     "output_type": "execute_result"
    }
   ],
   "source": [
    "t_i_array"
   ]
  },
  {
   "cell_type": "code",
   "execution_count": 55,
   "metadata": {},
   "outputs": [
    {
     "data": {
      "text/plain": [
       "array([0.15943275, 0.15307027, 0.14475433, 0.13400012, 0.1202956 ,\n",
       "       0.10319189, 0.08249319, 0.05862558, 0.03331813, 0.01081813])"
      ]
     },
     "execution_count": 55,
     "metadata": {},
     "output_type": "execute_result"
    }
   ],
   "source": [
    "marginal_t_i = t_i_array/sum_Z\n",
    "marginal_t_i"
   ]
  },
  {
   "cell_type": "code",
   "execution_count": 56,
   "metadata": {},
   "outputs": [
    {
     "data": {
      "text/plain": [
       "array([0.15943275, 0.15307027, 0.14475433, 0.13400012, 0.1202956 ,\n",
       "       0.10319189, 0.08249319, 0.05862558, 0.03331813, 0.01081813])"
      ]
     },
     "execution_count": 56,
     "metadata": {},
     "output_type": "execute_result"
    }
   ],
   "source": [
    "bp_result"
   ]
  },
  {
   "cell_type": "code",
   "execution_count": 57,
   "metadata": {},
   "outputs": [],
   "source": [
    "factor_i = factor([\"t_i\", \"t_j\"], np.array([[0.5, 0.6], [0.7, 0.8]]))\n",
    "factor_j = factor([\"t_j\"], np.array([0.5, 0.6]))\n",
    "\n",
    "graph = factor_graph()\n",
    "#graph.add_factor_node(\"factor_i\", factor_i)\n",
    "graph.add_factor_node(\"factor_j\", factor_j)\n",
    "\n",
    "bp = belief_propagation(graph)\n",
    "bp_result = bp.belief(\"t_j\").get_distribution()"
   ]
  },
  {
   "cell_type": "code",
   "execution_count": 58,
   "metadata": {},
   "outputs": [
    {
     "data": {
      "text/plain": [
       "array([0.45454545, 0.54545455])"
      ]
     },
     "execution_count": 58,
     "metadata": {},
     "output_type": "execute_result"
    }
   ],
   "source": [
    "bp_result"
   ]
  },
  {
   "cell_type": "code",
   "execution_count": 59,
   "metadata": {},
   "outputs": [
    {
     "data": {
      "text/plain": [
       "[0.5, 0.6]"
      ]
     },
     "execution_count": 59,
     "metadata": {},
     "output_type": "execute_result"
    }
   ],
   "source": [
    "#exact calculation of marginals\n",
    "exact = []\n",
    "matrix =  np.array([[0.5, 0.6], [0.7, 0.8]])\n",
    "for t_j in range(2):\n",
    "        sum = 0\n",
    "        sum += factor_i.get_distribution()[0,t_j]\n",
    "        exact.append(sum)\n",
    "sum_Z = np.sum(exact)\n",
    "exact"
   ]
  },
  {
   "cell_type": "code",
   "execution_count": 60,
   "metadata": {},
   "outputs": [],
   "source": [
    "fac = factor_reduction(factor_i, \"t_i\", 0)"
   ]
  },
  {
   "cell_type": "code",
   "execution_count": 61,
   "metadata": {},
   "outputs": [
    {
     "data": {
      "text/plain": [
       "array([0.45454545, 0.54545455])"
      ]
     },
     "execution_count": 61,
     "metadata": {},
     "output_type": "execute_result"
    }
   ],
   "source": [
    "np.array(exact)/sum_Z"
   ]
  }
 ],
 "metadata": {
  "kernelspec": {
   "display_name": "datalysis",
   "language": "python",
   "name": "python3"
  },
  "language_info": {
   "codemirror_mode": {
    "name": "ipython",
    "version": 3
   },
   "file_extension": ".py",
   "mimetype": "text/x-python",
   "name": "python",
   "nbconvert_exporter": "python",
   "pygments_lexer": "ipython3",
   "version": "3.9.16"
  },
  "orig_nbformat": 4
 },
 "nbformat": 4,
 "nbformat_minor": 2
}
