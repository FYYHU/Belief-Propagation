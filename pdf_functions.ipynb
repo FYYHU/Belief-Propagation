{
 "cells": [
  {
   "cell_type": "code",
   "execution_count": 2,
   "metadata": {},
   "outputs": [
    {
     "name": "stdout",
     "output_type": "stream",
     "text": [
      "Warning: When  cdn_resources is 'local' jupyter notebook has issues displaying graphics on chrome/safari. Use cdn_resources='in_line' or cdn_resources='remote' if you have issues viewing graphics in a notebook.\n",
      "./img/3/graph.html\n",
      "Warning: When  cdn_resources is 'local' jupyter notebook has issues displaying graphics on chrome/safari. Use cdn_resources='in_line' or cdn_resources='remote' if you have issues viewing graphics in a notebook.\n",
      "./img/3/graph.html\n"
     ]
    }
   ],
   "source": [
    "import math\n",
    "import numpy as np\n",
    "import matplotlib.pyplot as plt\n",
    "import matplotlib as mpl\n",
    "mpl.rcParams.update(mpl.rcParamsDefault)\n",
    "%run ./2-ImplementationFactor.ipynb\n",
    "%run ./3-ImplementationPGM.ipynb\n",
    "%run ./4-ImplementationBP.ipynb"
   ]
  },
  {
   "cell_type": "code",
   "execution_count": 3,
   "metadata": {},
   "outputs": [],
   "source": [
    "def delta_funct(S_ki, t_i):\n",
    "    if (t_i == np.min(S_ki)):\n",
    "        return 1\n",
    "    return 0"
   ]
  },
  {
   "cell_type": "code",
   "execution_count": 4,
   "metadata": {},
   "outputs": [],
   "source": [
    "def R_i(t_i, r_i, lambda_i):\n",
    "    if (t_i > r_i):\n",
    "        return 0\n",
    "    result = lambda_i*np.exp(-lambda_i*(r_i - t_i))\n",
    "    return result"
   ]
  },
  {
   "cell_type": "code",
   "execution_count": 5,
   "metadata": {},
   "outputs": [],
   "source": [
    "def S_ij(s_ij, t_i, r_i, lambda_i, time_range, contact_range_ij):\n",
    "    if (t_i <= s_ij < r_i):\n",
    "            temp = np.where((contact_range_ij < s_ij) & (contact_range_ij >= t_i))\n",
    "            return (lambda_i)*(1-lambda_i)**(len(temp))\n",
    "    elif (s_ij ==9):\n",
    "        index_larger_than_t_i = np.where(contact_range_ij >= t_i)\n",
    "        return (1-lambda_i)**(len(index_larger_than_t_i))\n",
    "    else:\n",
    "        return 0"
   ]
  },
  {
   "cell_type": "code",
   "execution_count": 6,
   "metadata": {},
   "outputs": [],
   "source": [
    "#debug function\n",
    "def Find_Zero(delt, R, S):\n",
    "    if (delt == 0):\n",
    "        print(\"delt = 0\")\n",
    "    if (R == 0):\n",
    "        print(\"R = 0\")\n",
    "    if (S == 0):\n",
    "        print(\"S = 0\")\n",
    "\n",
    "def phi(t_i,r_i, s, type):\n",
    "    delt = delta_funct([s[0]],t_i)\n",
    "    R = R_i(t_i, r_i, 0.3)\n",
    "    S = S_ij(s[0], t_i, r_i, 0.3, \"nothing\", np.array([0,6,9]))\n",
    "    #Find_Zero(delt, R, S)\n",
    "    return delt*R*S\n"
   ]
  },
  {
   "cell_type": "code",
   "execution_count": 7,
   "metadata": {},
   "outputs": [],
   "source": [
    "#phi(t_i,r_i,(s_ij,s_ji), type)"
   ]
  },
  {
   "cell_type": "code",
   "execution_count": 8,
   "metadata": {},
   "outputs": [
    {
     "data": {
      "text/plain": [
       "0.0"
      ]
     },
     "execution_count": 8,
     "metadata": {},
     "output_type": "execute_result"
    }
   ],
   "source": [
    "phi(1, 7, (6,1), 0)"
   ]
  },
  {
   "cell_type": "code",
   "execution_count": 9,
   "metadata": {},
   "outputs": [],
   "source": [
    "#inference using BP"
   ]
  },
  {
   "cell_type": "code",
   "execution_count": 10,
   "metadata": {},
   "outputs": [],
   "source": [
    "variables_i = [\"t_i\",\"r_i\",\"s_ij:s_ji\"]\n",
    "variables_j = [\"t_j\", \"r_j\",\"s_ij:s_ji\"]"
   ]
  },
  {
   "cell_type": "code",
   "execution_count": 11,
   "metadata": {},
   "outputs": [],
   "source": [
    "shape = (10,10,10,10)\n",
    "matrix_phi_i = np.zeros(shape=(10,10,10))\n",
    "matrix_phi_j = np.zeros(shape=(10,10,10))\n",
    "for index in np.ndindex(shape):\n",
    "    matrix_phi_i[index[0], index[1], index[2]] = phi(index[0], index[1], [index[2]],0)\n",
    "    matrix_phi_j[index[0], index[1], index[3]] = phi(index[0], index[1], [index[2]],1)"
   ]
  },
  {
   "cell_type": "code",
   "execution_count": 12,
   "metadata": {},
   "outputs": [],
   "source": [
    "phi_i = factor(variables_i, matrix_phi_i)\n",
    "phi_j = factor(variables_j, matrix_phi_j)"
   ]
  },
  {
   "cell_type": "code",
   "execution_count": 13,
   "metadata": {},
   "outputs": [],
   "source": [
    "graph = factor_graph()\n",
    "graph.add_factor_node(\"phi_i\", phi_i)\n",
    "graph.add_factor_node(\"phi_j\", phi_j)"
   ]
  },
  {
   "cell_type": "code",
   "execution_count": 14,
   "metadata": {},
   "outputs": [],
   "source": [
    "bp = belief_propagation(graph)\n",
    "bp_result = bp.belief(\"t_i\").get_distribution()"
   ]
  },
  {
   "cell_type": "code",
   "execution_count": 15,
   "metadata": {},
   "outputs": [
    {
     "data": {
      "text/plain": [
       "array([0.12437271, 0.12123771, 0.11700591, 0.11129358, 0.10358274,\n",
       "       0.09317419, 0.07912412, 0.0601585 , 0.0345576 , 0.15549294])"
      ]
     },
     "execution_count": 15,
     "metadata": {},
     "output_type": "execute_result"
    }
   ],
   "source": [
    "bp_result"
   ]
  },
  {
   "cell_type": "code",
   "execution_count": 16,
   "metadata": {},
   "outputs": [
    {
     "name": "stdout",
     "output_type": "stream",
     "text": [
      "Warning: When  cdn_resources is 'local' jupyter notebook has issues displaying graphics on chrome/safari. Use cdn_resources='in_line' or cdn_resources='remote' if you have issues viewing graphics in a notebook.\n",
      "./img/3/graph.html\n"
     ]
    },
    {
     "data": {
      "text/html": [
       "\n",
       "        <iframe\n",
       "            width=\"100%\"\n",
       "            height=\"600px\"\n",
       "            src=\"./img/3/graph.html\"\n",
       "            frameborder=\"0\"\n",
       "            allowfullscreen\n",
       "            \n",
       "        ></iframe>\n",
       "        "
      ],
      "text/plain": [
       "<IPython.lib.display.IFrame at 0x21ef3192920>"
      ]
     },
     "execution_count": 16,
     "metadata": {},
     "output_type": "execute_result"
    }
   ],
   "source": [
    "plot_factor_graph(graph)"
   ]
  },
  {
   "cell_type": "code",
   "execution_count": 17,
   "metadata": {},
   "outputs": [],
   "source": [
    "#exact calculation of marginals"
   ]
  },
  {
   "cell_type": "code",
   "execution_count": 18,
   "metadata": {},
   "outputs": [],
   "source": [
    "t_i_array = []\n",
    "for t_i in range(10):\n",
    "    sum = 0\n",
    "    for r_i in range(10):\n",
    "        for t_j in range(10):\n",
    "            for r_j in range(10):\n",
    "                for s_ij in range(10):\n",
    "                    for s_ji in range(10):\n",
    "                        sum += phi(t_i,r_i,[s_ij],0)*phi(t_j,r_j,[s_ji],1)\n",
    "    t_i_array.append(sum)"
   ]
  },
  {
   "cell_type": "code",
   "execution_count": 19,
   "metadata": {},
   "outputs": [],
   "source": [
    "sum_Z = np.sum(t_i_array)"
   ]
  },
  {
   "cell_type": "code",
   "execution_count": 20,
   "metadata": {},
   "outputs": [
    {
     "data": {
      "text/plain": [
       "[0.22685184984790147,\n",
       " 0.22113371932078385,\n",
       " 0.21341505046588488,\n",
       " 0.20299593732933702,\n",
       " 0.18893160569483713,\n",
       " 0.16994674376533764,\n",
       " 0.14431986067918845,\n",
       " 0.10972718683462956,\n",
       " 0.06303196136794771,\n",
       " 0.28361416070438195]"
      ]
     },
     "execution_count": 20,
     "metadata": {},
     "output_type": "execute_result"
    }
   ],
   "source": [
    "t_i_array"
   ]
  },
  {
   "cell_type": "code",
   "execution_count": 21,
   "metadata": {},
   "outputs": [
    {
     "data": {
      "text/plain": [
       "array([0.12437271, 0.12123771, 0.11700591, 0.11129358, 0.10358274,\n",
       "       0.09317419, 0.07912412, 0.0601585 , 0.0345576 , 0.15549294])"
      ]
     },
     "execution_count": 21,
     "metadata": {},
     "output_type": "execute_result"
    }
   ],
   "source": [
    "marginal_t_i = t_i_array/sum_Z\n",
    "marginal_t_i"
   ]
  },
  {
   "cell_type": "code",
   "execution_count": 22,
   "metadata": {},
   "outputs": [
    {
     "data": {
      "text/plain": [
       "array([0.12437271, 0.12123771, 0.11700591, 0.11129358, 0.10358274,\n",
       "       0.09317419, 0.07912412, 0.0601585 , 0.0345576 , 0.15549294])"
      ]
     },
     "execution_count": 22,
     "metadata": {},
     "output_type": "execute_result"
    }
   ],
   "source": [
    "bp_result"
   ]
  },
  {
   "cell_type": "code",
   "execution_count": 23,
   "metadata": {},
   "outputs": [],
   "source": [
    "factor_i = factor([\"t_i\", \"t_j\"], np.array([[0.1, 0.2], [0.3, 0.4]]))\n",
    "factor_j = factor([\"t_j\", \"t_k\"], np.array([[0.5, 0.6], [0.7, 0.8]]))\n",
    "\n",
    "graph = factor_graph()\n",
    "graph.add_factor_node(\"factor_i\", factor_i)\n",
    "graph.add_factor_node(\"factor_j\", factor_j)\n",
    "\n",
    "bp = belief_propagation(graph)\n",
    "bp_result = bp.belief(\"t_i\").get_distribution()"
   ]
  },
  {
   "cell_type": "code",
   "execution_count": 24,
   "metadata": {},
   "outputs": [
    {
     "data": {
      "text/plain": [
       "array([0.30597015, 0.69402985])"
      ]
     },
     "execution_count": 24,
     "metadata": {},
     "output_type": "execute_result"
    }
   ],
   "source": [
    "bp_result"
   ]
  },
  {
   "cell_type": "code",
   "execution_count": 25,
   "metadata": {},
   "outputs": [
    {
     "data": {
      "text/plain": [
       "[0.41000000000000003, 0.9299999999999999]"
      ]
     },
     "execution_count": 25,
     "metadata": {},
     "output_type": "execute_result"
    }
   ],
   "source": [
    "#exact calculation of marginals\n",
    "exact = []\n",
    "for t_i in range(2):\n",
    "    sum = 0\n",
    "    for t_j in range(2):\n",
    "        for t_k in range(2):\n",
    "            sum += factor_i.get_distribution()[t_i, t_j]*factor_j.get_distribution()[t_j, t_k]\n",
    "    exact.append(sum)\n",
    "\n",
    "sum_Z = np.sum(exact)\n",
    "exact"
   ]
  },
  {
   "cell_type": "code",
   "execution_count": 26,
   "metadata": {},
   "outputs": [
    {
     "data": {
      "text/plain": [
       "array([0.30597015, 0.69402985])"
      ]
     },
     "execution_count": 26,
     "metadata": {},
     "output_type": "execute_result"
    }
   ],
   "source": [
    "exact/sum_Z"
   ]
  }
 ],
 "metadata": {
  "kernelspec": {
   "display_name": "datalysis",
   "language": "python",
   "name": "python3"
  },
  "language_info": {
   "codemirror_mode": {
    "name": "ipython",
    "version": 3
   },
   "file_extension": ".py",
   "mimetype": "text/x-python",
   "name": "python",
   "nbconvert_exporter": "python",
   "pygments_lexer": "ipython3",
   "version": "3.10.9"
  },
  "orig_nbformat": 4
 },
 "nbformat": 4,
 "nbformat_minor": 2
}
